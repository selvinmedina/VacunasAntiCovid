{
    "metadata": {
        "kernelspec": {
            "name": "SQL",
            "display_name": "SQL",
            "language": "sql"
        },
        "language_info": {
            "name": "sql",
            "version": ""
        }
    },
    "nbformat_minor": 2,
    "nbformat": 4,
    "cells": [
        {
            "cell_type": "code",
            "source": [
                "CREATE DATABASE VacunasAntiCovid;"
            ],
            "metadata": {
                "azdata_cell_guid": "574918e9-5c40-47ad-9625-30bab117912c",
                "language": "sql"
            },
            "outputs": [],
            "execution_count": null
        },
        {
            "cell_type": "code",
            "source": [
                "USE VacunasAntiCovid;\n",
                "\n",
                "CREATE TABLE Rol\n",
                "(\n",
                "    Id INT NOT NULL,\n",
                "    Descripcion NVARCHAR(50) NOT NULL,\n",
                "    Activo BIT NOT NULL,\n",
                "    UsuarioAgregaId INT NOT NULL,\n",
                "    FechaAgrega DATETIME NOT NULL,\n",
                "    FechaModifica DATETIME NULL,\n",
                "    UsuarioModificaId INT NULL,\n",
                "    CONSTRAINT PK_Rol PRIMARY KEY(Id),\n",
                "    CONSTRAINT CK_Rol_Descripcion CHECK(Descripcion IS NOT NULL AND TRIM(Descripcion) <> ''),\n",
                "    CONSTRAINT CK_Rol_UsuarioAgregaId CHECK(UsuarioAgregaId IS NOT NULL AND UsuarioAgregaId > 0)\n",
                ");"
            ],
            "metadata": {
                "azdata_cell_guid": "38f66882-253e-437d-b099-68cf0bcb9a64",
                "language": "sql"
            },
            "outputs": [],
            "execution_count": null
        },
        {
            "cell_type": "code",
            "source": [
                "CREATE TABLE Usuario\n",
                "(\n",
                "    Id INT NOT NULL IDENTITY(1,1),\n",
                "    Usuario NVARCHAR(50) NOT NULL,\n",
                "    Clave BINARY(64) NOT NULL,\n",
                "    Correo NVARCHAR(50) NOT NULL,\n",
                "    Activo BIT NOT NULL,\n",
                "    RolId INT NULL,\n",
                "    UsuarioAgregaId INT NOT NULL,\n",
                "    FechaAgrega DATETIME NOT NULL,\n",
                "    FechaModifica DATETIME NULL,\n",
                "    UsuarioModificaId INT NULL,\n",
                "    CONSTRAINT PK_Usuario PRIMARY KEY (Id),\n",
                "    CONSTRAINT CK_Usuario_Correo CHECK(Correo LIKE '%___@___%'),\n",
                "    CONSTRAINT CK_Usuario_Usuario CHECK(Usuario IS NOT NULL AND TRIM(Usuario) <> ''),\n",
                "    CONSTRAINT CK_Usuario_UsuarioAgregaId CHECK(UsuarioAgregaId IS NOT NULL AND UsuarioAgregaId > 0),\n",
                "    CONSTRAINT FK_Usuario_Rol FOREIGN KEY (RolId) REFERENCES Rol (Id)\n",
                ");"
            ],
            "metadata": {
                "azdata_cell_guid": "1d2c3147-7177-4cee-9f3e-f4e0c91283bd",
                "language": "sql"
            },
            "outputs": [],
            "execution_count": null
        },
        {
            "cell_type": "markdown",
            "source": [
                "Agregando relación de la tabla usuarios a los roles"
            ],
            "metadata": {
                "azdata_cell_guid": "3e83e969-8aba-4f3d-85e5-475b5c8c554f"
            }
        },
        {
            "cell_type": "code",
            "source": [
                "ALTER TABLE Rol ADD CONSTRAINT FK_Rol_UsuarioAgregaId FOREIGN KEY (UsuarioAgregaId) REFERENCES Usuario (Id);\n",
                "ALTER TABLE Rol ADD CONSTRAINT FK_Rol_UsuarioModificaId FOREIGN KEY (UsuarioModificaId) REFERENCES Usuario (Id);"
            ],
            "metadata": {
                "azdata_cell_guid": "924bcb21-1079-4891-8738-b3786b390a06",
                "language": "sql"
            },
            "outputs": [],
            "execution_count": null
        },
        {
            "cell_type": "markdown",
            "source": [
                "Insertando el primer usuario, administrador"
            ],
            "metadata": {
                "azdata_cell_guid": "dfaf0429-8eff-4643-9fdd-2f1a497213e2"
            }
        },
        {
            "cell_type": "code",
            "source": [
                "INSERT INTO Usuario\n",
                "    (\n",
                "    [Usuario],\n",
                "    [Clave],\n",
                "    [Correo],\n",
                "    [Activo],\n",
                "    [RolId],\n",
                "    [UsuarioAgregaId],\n",
                "    [FechaAgrega]\n",
                "    )\n",
                "VALUES\n",
                "    (\n",
                "        'administrator',\n",
                "        HASHBYTES('SHA2_512', 'alfaomega'),\n",
                "        'selvinmedina0016@gmail.com',\n",
                "        1,\n",
                "        NULL,\n",
                "        1,\n",
                "        GETDATE()\n",
                ");"
            ],
            "metadata": {
                "azdata_cell_guid": "8128fc36-12ab-496a-b8ff-548c71ba73dc",
                "language": "sql"
            },
            "outputs": [],
            "execution_count": null
        },
        {
            "cell_type": "markdown",
            "source": [
                "Validando Usuario por clave"
            ],
            "metadata": {
                "azdata_cell_guid": "49e66027-542d-4a11-ae5e-790444979348"
            }
        },
        {
            "cell_type": "code",
            "source": [
                "SELECT *\n",
                "FROM Usuario\n",
                "WHERE \n",
                "    Usuario = 'administrator'\n",
                "    AND Clave = HASHBYTES('SHA2_512', 'alfaomega');"
            ],
            "metadata": {
                "azdata_cell_guid": "8b5ced0b-2289-45b5-8464-91e11168d15e",
                "language": "sql"
            },
            "outputs": [],
            "execution_count": null
        },
        {
            "cell_type": "markdown",
            "source": [
                "Insertar Rol"
            ],
            "metadata": {
                "azdata_cell_guid": "7cb7c0c8-4388-4d7e-88e0-1e2056b6e6f6"
            }
        },
        {
            "cell_type": "code",
            "source": [
                "INSERT INTO Rol\n",
                "    (\n",
                "    [Id],\n",
                "    [Descripcion],\n",
                "    [Activo],\n",
                "    [UsuarioAgregaId],\n",
                "    [FechaAgrega]\n",
                "    )\n",
                "VALUES\n",
                "    (\n",
                "        1,\n",
                "        'Administrador',\n",
                "        1,\n",
                "        1,\n",
                "        GETDATE()\n",
                "),\n",
                "    (\n",
                "        2,\n",
                "        'Oficiales médicos',\n",
                "        1,\n",
                "        1,\n",
                "        GETDATE()\n",
                "),\n",
                "    (\n",
                "        3,\n",
                "        'Encargado de digitación',\n",
                "        1,\n",
                "        1,\n",
                "        GETDATE()\n",
                ");"
            ],
            "metadata": {
                "azdata_cell_guid": "020772e4-12dd-41ee-bcd6-50908766fb23",
                "language": "sql"
            },
            "outputs": [],
            "execution_count": null
        },
        {
            "cell_type": "markdown",
            "source": [
                "Seleccionando los Roles"
            ],
            "metadata": {
                "azdata_cell_guid": "2cde3548-212c-49ae-8d90-357f8fd1a3b4"
            }
        },
        {
            "cell_type": "code",
            "source": [
                "SELECT *\n",
                "FROM Rol;\n",
                "\n",
                "SELECT r.*,\n",
                "    UsuarioAgrega = u.Usuario\n",
                "FROM Rol r\n",
                "    INNER JOIN Usuario u ON u.Id = r.UsuarioAgregaId;"
            ],
            "metadata": {
                "azdata_cell_guid": "896276a1-af47-4223-a34c-c916dde66b9c",
                "language": "sql"
            },
            "outputs": [],
            "execution_count": null
        },
        {
            "cell_type": "code",
            "source": [
                "CREATE TABLE CentroDeAsistencia\n",
                "(\n",
                "    Id INT NOT NULL,\n",
                "    Descripcion NVARCHAR(200) NOT NULL,\n",
                "    Capacidad INT NOT NULL,\n",
                "    NumeroMedicos INT NOT NULL,\n",
                "    NumeroEnfermeras INT NOT NULL,\n",
                "    NumeroPacientesAtendidos INT NOT NULL,\n",
                "    Activo BIT NOT NULL,\n",
                "    UsuarioAgregaId INT NOT NULL,\n",
                "    FechaAgrega DATETIME NOT NULL,\n",
                "    FechaModifica DATETIME NULL,\n",
                "    UsuarioModificaId INT NULL,\n",
                "    CONSTRAINT PK_CentroDeAsistencia PRIMARY KEY (Id),\n",
                "    CONSTRAINT CK_CentroDeAsistencia_Descripcion CHECK(Descripcion IS NOT NULL AND TRIM(Descripcion) <> ''),\n",
                "    CONSTRAINT FK_CentroDeAsistencia_UsuarioAgregaId FOREIGN KEY (UsuarioAgregaId) REFERENCES Usuario (Id),\n",
                "    CONSTRAINT FK_CentroDeAsistencia_UsuarioModificaId FOREIGN KEY (UsuarioModificaId) REFERENCES Usuario (Id)\n",
                ");"
            ],
            "metadata": {
                "azdata_cell_guid": "feba2c1d-a64c-4e6f-a64a-047c028f48e7",
                "language": "sql"
            },
            "outputs": [],
            "execution_count": null
        },
        {
            "cell_type": "code",
            "source": [
                "CREATE TABLE CentroDeAsistencia\n",
                "(\n",
                "    Id INT NOT NULL,\n",
                "    Descripcion NVARCHAR(200) NOT NULL,\n",
                "    Capacidad INT NOT NULL,\n",
                "    NumeroMedicos INT NOT NULL,\n",
                "    NumeroEnfermeras INT NOT NULL,\n",
                "    NumeroPacientesAtendidos INT NOT NULL,\n",
                "    Activo BIT NOT NULL,\n",
                "    UsuarioAgregaId INT NOT NULL,\n",
                "    FechaAgrega DATETIME NOT NULL,\n",
                "    FechaModifica DATETIME NULL,\n",
                "    UsuarioModificaId INT NULL,\n",
                "    CONSTRAINT PK_CentroDeAsistencia PRIMARY KEY (Id),\n",
                "    CONSTRAINT CK_CentroDeAsistencia_Descripcion CHECK(Descripcion IS NOT NULL AND TRIM(Descripcion) <> ''),\n",
                "    CONSTRAINT FK_CentroDeAsistencia_UsuarioAgregaId FOREIGN KEY (UsuarioAgregaId) REFERENCES Usuario (Id),\n",
                "    CONSTRAINT FK_CentroDeAsistencia_UsuarioModificaId FOREIGN KEY (UsuarioModificaId) REFERENCES Usuario (Id)\n",
                ");"
            ],
            "metadata": {
                "azdata_cell_guid": "83e3d142-51bf-4e35-8ae2-f8379b0bd02f",
                "language": "sql"
            },
            "outputs": [],
            "execution_count": null
        },
        {
            "cell_type": "code",
            "source": [
                "CREATE TABLE Vacuna\n",
                "(\n",
                "    Id INT NOT NULL,\n",
                "    Identidad NVARCHAR(50) NOT NULL,\n",
                "    Nombre NVARCHAR(50) NOT NULL,\n",
                "    Apellido NVARCHAR(50) NOT NULL,\n",
                "    FechaNacimiento DATE NOT NULL,\n",
                "    Activo BIT NOT NULL,\n",
                "    UsuarioAgregaId INT NOT NULL,\n",
                "    FechaAgrega DATETIME NOT NULL,\n",
                "    FechaModifica DATETIME NULL,\n",
                "    UsuarioModificaId INT NULL,\n",
                "    CONSTRAINT PK_Vacuna PRIMARY KEY (Id),\n",
                "    CONSTRAINT CK_Vacuna_Identidad CHECK(Identidad IS NOT NULL AND TRIM(Identidad) <> ''),\n",
                "    CONSTRAINT CK_Vacuna_Nombre CHECK(Nombre IS NOT NULL AND TRIM(Nombre) <> ''),\n",
                "    CONSTRAINT CK_Vacuna_Apellido CHECK(Apellido IS NOT NULL AND TRIM(Apellido) <> ''),\n",
                "    CONSTRAINT CK_Vacuna_FechaNacimiento CHECK(FechaNacimiento >= '1970-01-01'),\n",
                "    CONSTRAINT FK_Vacuna_UsuarioAgregaId FOREIGN KEY (UsuarioAgregaId) REFERENCES Usuario (Id),\n",
                "    CONSTRAINT FK_Vacuna_UsuarioModificaId FOREIGN KEY (UsuarioModificaId) REFERENCES Usuario (Id)\n",
                ");"
            ],
            "metadata": {
                "azdata_cell_guid": "666aae35-8e34-479f-97b7-4f5335635d5f",
                "language": "sql"
            },
            "outputs": [],
            "execution_count": null
        },
        {
            "cell_type": "code",
            "source": [
                "CREATE TABLE DestinoVacuna\n",
                "(\n",
                "    Id INT NOT NULL,\n",
                "    Descripcion NVARCHAR(50) NOT NULL,\n",
                "    Activo BIT NOT NULL,\n",
                "    UsuarioAgregaId INT NOT NULL,\n",
                "    FechaAgrega DATETIME NOT NULL,\n",
                "    FechaModifica DATETIME NULL,\n",
                "    UsuarioModificaId INT NULL,\n",
                "    CONSTRAINT PK_DestinoVacuna PRIMARY KEY (Id),\n",
                "    CONSTRAINT CK_DestinoVacuna_Descripcion CHECK(Descripcion IS NOT NULL AND TRIM(Descripcion) <> ''),\n",
                "    CONSTRAINT FK_DestinoVacuna_UsuarioAgregaId FOREIGN KEY (UsuarioAgregaId) REFERENCES Usuario (Id),\n",
                "    CONSTRAINT FK_DestinoVacuna_UsuarioModificaId FOREIGN KEY (UsuarioModificaId) REFERENCES Usuario (Id)\n",
                ");"
            ],
            "metadata": {
                "azdata_cell_guid": "57bba471-e94f-460b-9c78-31eded7d1429",
                "language": "sql"
            },
            "outputs": [],
            "execution_count": null
        },
        {
            "cell_type": "code",
            "source": [
                "CREATE TABLE [dbo].[Ciudadano]\n",
                "(\n",
                "    [Id] [int] NOT NULL,\n",
                "    [Identidad] [nvarchar](50) NOT NULL,\n",
                "    [Nombre] [nvarchar](50) NOT NULL,\n",
                "    [Apellido] [nvarchar](50) NOT NULL,\n",
                "    [FechaNacimiento] [date] NOT NULL,\n",
                "    [Activo] [bit] NOT NULL,\n",
                "    [UsuarioAgregaId] [int] NOT NULL,\n",
                "    [FechaAgrega] [datetime] NOT NULL,\n",
                "    [FechaModifica] [datetime] NULL,\n",
                "    [UsuarioModificaId] [int] NULL,\n",
                "    CONSTRAINT [PK_Ciudadano] PRIMARY KEY CLUSTERED ([Id] ASC),\n",
                "    CONSTRAINT [FK_Ciudadano_UsuarioAgregaId] FOREIGN KEY([UsuarioAgregaId]) REFERENCES [dbo].[Usuario] ([Id]),\n",
                "    CONSTRAINT [FK_Ciudadano_UsuarioModificaId] FOREIGN KEY([UsuarioModificaId]) REFERENCES [dbo].[Usuario] ([Id]),\n",
                "    CONSTRAINT [CK_Ciudadano_Apellido] CHECK  (([Apellido] IS NOT NULL AND Trim([Apellido])<>'')),\n",
                "    CONSTRAINT [CK_Ciudadano_FechaNacimiento] CHECK  (([FechaNacimiento]>='1970-01-01')),\n",
                "    CONSTRAINT [CK_Ciudadano_Identidad] CHECK  (([Identidad] IS NOT NULL AND Trim([Identidad])<>'')),\n",
                "    CONSTRAINT [CK_Ciudadano_Nombre] CHECK  (([Nombre] IS NOT NULL AND Trim([Nombre])<>''))\n",
                ")"
            ],
            "metadata": {
                "azdata_cell_guid": "6bbd30dc-b855-44e9-9ba4-4aaad51607b9",
                "language": "sql"
            },
            "outputs": [],
            "execution_count": null
        },
        {
            "cell_type": "code",
            "source": [
                "CREATE TABLE [dbo].[HistoricoCiudadano]\n",
                "(\n",
                "    [Id] [int] NOT NULL,\n",
                "    VacunaId INT NOT NULL,\n",
                "    CiudadanoId INT NOT NULL,\n",
                "    CentroDeAsistenciaId INT NOT NULL,\n",
                "    FechaAplicacion DATETIME NOT NULL,\n",
                "    [Activo] [bit] NOT NULL,\n",
                "    [UsuarioAgregaId] [int] NOT NULL,\n",
                "    [FechaAgrega] [datetime] NOT NULL,\n",
                "    [FechaModifica] [datetime] NULL,\n",
                "    [UsuarioModificaId] [int] NULL,\n",
                "    CONSTRAINT [PK_HistoricoCiudadano] PRIMARY KEY CLUSTERED ([Id] ASC),\n",
                "    CONSTRAINT [FK_HistoricoCiudadano_UsuarioAgregaId] FOREIGN KEY([UsuarioAgregaId]) REFERENCES [dbo].[Usuario] ([Id]),\n",
                "    CONSTRAINT [FK_HistoricoCiudadano_UsuarioModificaId] FOREIGN KEY([UsuarioModificaId]) REFERENCES [dbo].[Usuario] ([Id]),\n",
                "    CONSTRAINT [CK_HistoricoCiudadano_FechaAplicacion] CHECK  (([FechaAplicacion]>='1970-01-01')),\n",
                "    CONSTRAINT [FK_HistoricoCiudadano_Vacuna] FOREIGN KEY([VacunaId]) REFERENCES [dbo].[Vacuna] ([Id]),\n",
                "    CONSTRAINT [FK_HistoricoCiudadano_CentroDeAsistencia] FOREIGN KEY([CentroDeAsistenciaId]) REFERENCES [dbo].[CentroDeAsistencia] ([Id]),\n",
                "    CONSTRAINT [FK_HistoricoCiudadano_Ciudadano] FOREIGN KEY([CiudadanoId]) REFERENCES [dbo].[Ciudadano] ([Id]),\n",
                ")"
            ],
            "metadata": {
                "azdata_cell_guid": "64f20f85-435b-420f-8473-4f359e5054df",
                "language": "sql"
            },
            "outputs": [],
            "execution_count": null
        },
        {
            "cell_type": "markdown",
            "source": [
                "Listar tablas"
            ],
            "metadata": {
                "azdata_cell_guid": "9be0635f-9f94-4bc4-ad87-aa6aac532ae4"
            }
        },
        {
            "cell_type": "code",
            "source": [
                "SELECT table_catalog [database], table_schema [schema], table_name [name], table_type [type]\n",
                "FROM INFORMATION_SCHEMA.TABLES"
            ],
            "metadata": {
                "azdata_cell_guid": "45f74e75-562f-472e-8309-64edf534a6a9",
                "language": "sql"
            },
            "outputs": [],
            "execution_count": null
        }
    ]
}