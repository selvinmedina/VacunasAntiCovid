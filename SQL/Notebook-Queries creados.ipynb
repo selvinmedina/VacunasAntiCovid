{
    "metadata": {
        "kernelspec": {
            "name": "SQL",
            "display_name": "SQL",
            "language": "sql"
        },
        "language_info": {
            "name": "sql",
            "version": ""
        }
    },
    "nbformat_minor": 2,
    "nbformat": 4,
    "cells": [
        {
            "cell_type": "code",
            "source": [
                "CREATE DATABASE VacunasAntiCovid;"
            ],
            "metadata": {
                "azdata_cell_guid": "8cc216a5-64f7-4db2-97c7-e21dd0e8beb6",
                "language": "sql"
            },
            "outputs": [],
            "execution_count": null
        },
        {
            "cell_type": "code",
            "source": [
                "USE VacunasAntiCovid;\n",
                "\n",
                "CREATE TABLE Rol\n",
                "(\n",
                "    Id INT NOT NULL,\n",
                "    Descripcion NVARCHAR(50) NOT NULL,\n",
                "    Activo BIT NOT NULL,\n",
                "    UsuarioAgregaId INT NOT NULL,\n",
                "    FechaAgrega DATETIME NOT NULL,\n",
                "    FechaModifica DATETIME NULL,\n",
                "    UsuarioModificaId INT NULL,\n",
                "    CONSTRAINT PK_Rol PRIMARY KEY(Id),\n",
                "    CONSTRAINT CK_Rol_Descripcion CHECK(Descripcion IS NOT NULL AND TRIM(Descripcion) <> ''),\n",
                "    CONSTRAINT CK_Rol_UsuarioAgregaId CHECK(UsuarioAgregaId IS NOT NULL AND UsuarioAgregaId > 0)\n",
                ");"
            ],
            "metadata": {
                "azdata_cell_guid": "a257c170-a8ab-4855-8440-402e785ad4e0",
                "language": "sql"
            },
            "outputs": [],
            "execution_count": null
        },
        {
            "cell_type": "code",
            "source": [
                "CREATE TABLE Usuario\n",
                "(\n",
                "    Id INT NOT NULL IDENTITY(1,1),\n",
                "    Usuario NVARCHAR(50) NOT NULL,\n",
                "    Clave BINARY(64) NOT NULL,\n",
                "    Correo NVARCHAR(50) NOT NULL,\n",
                "    Activo BIT NOT NULL,\n",
                "    RolId INT NULL,\n",
                "    UsuarioAgregaId INT NOT NULL,\n",
                "    FechaAgrega DATETIME NOT NULL,\n",
                "    FechaModifica DATETIME NULL,\n",
                "    UsuarioModificaId INT NULL,\n",
                "    CONSTRAINT PK_Usuario PRIMARY KEY (Id),\n",
                "    CONSTRAINT CK_Usuario_Correo CHECK(Correo LIKE '%___@___%'),\n",
                "    CONSTRAINT CK_Usuario_Usuario CHECK(Usuario IS NOT NULL AND TRIM(Usuario) <> ''),\n",
                "    CONSTRAINT CK_Usuario_UsuarioAgregaId CHECK(UsuarioAgregaId IS NOT NULL AND UsuarioAgregaId > 0),\n",
                "    CONSTRAINT FK_Usuario_Rol FOREIGN KEY (RolId) REFERENCES Rol (Id)\n",
                ");"
            ],
            "metadata": {
                "azdata_cell_guid": "12b556d0-777d-4085-841f-92c855600fa0",
                "language": "sql"
            },
            "outputs": [],
            "execution_count": null
        },
        {
            "cell_type": "markdown",
            "source": [
                "Agregando relación de la tabla usuarios a los roles"
            ],
            "metadata": {
                "azdata_cell_guid": "47970dfc-bf61-467c-a020-a4e27e8cb35b"
            }
        },
        {
            "cell_type": "code",
            "source": [
                "ALTER TABLE Rol ADD CONSTRAINT FK_Rol_UsuarioAgregaId FOREIGN KEY (UsuarioAgregaId) REFERENCES Usuario (Id);\n",
                "ALTER TABLE Rol ADD CONSTRAINT FK_Rol_UsuarioModificaId FOREIGN KEY (UsuarioModificaId) REFERENCES Usuario (Id);"
            ],
            "metadata": {
                "azdata_cell_guid": "f2852129-185a-4b2f-97a4-63ca100f5058",
                "language": "sql"
            },
            "outputs": [],
            "execution_count": null
        },
        {
            "cell_type": "markdown",
            "source": [
                "Insertando el primer usuario, administrador"
            ],
            "metadata": {
                "azdata_cell_guid": "756321fe-104f-4df9-a152-b0f980124f7b"
            }
        },
        {
            "cell_type": "code",
            "source": [
                "INSERT INTO Usuario\n",
                "    (\n",
                "    [Usuario],\n",
                "    [Clave],\n",
                "    [Correo],\n",
                "    [Activo],\n",
                "    [RolId],\n",
                "    [UsuarioAgregaId],\n",
                "    [FechaAgrega]\n",
                "    )\n",
                "VALUES\n",
                "    (\n",
                "        'administrator',\n",
                "        HASHBYTES('SHA2_512', 'alfaomega'),\n",
                "        'selvinmedina0016@gmail.com',\n",
                "        1,\n",
                "        NULL,\n",
                "        1,\n",
                "        GETDATE()\n",
                ");"
            ],
            "metadata": {
                "azdata_cell_guid": "ac5531f9-1658-40b9-80eb-ae558e10d69b",
                "language": "sql"
            },
            "outputs": [],
            "execution_count": null
        },
        {
            "cell_type": "markdown",
            "source": [
                "Validando Usuario por clave"
            ],
            "metadata": {
                "azdata_cell_guid": "ce380f15-ac5d-40a5-b2f3-d5e5d45b995e"
            }
        },
        {
            "cell_type": "code",
            "source": [
                "SELECT *\n",
                "FROM Usuario\n",
                "WHERE \n",
                "    Usuario = 'administrator'\n",
                "    AND Clave = HASHBYTES('SHA2_512', 'alfaomega');"
            ],
            "metadata": {
                "azdata_cell_guid": "d7d4da8b-7218-45c3-a21b-cfa385b5a294",
                "language": "sql"
            },
            "outputs": [],
            "execution_count": null
        },
        {
            "cell_type": "markdown",
            "source": [
                "Insertar Rol"
            ],
            "metadata": {
                "azdata_cell_guid": "1ea22c6e-d0d7-4201-9992-992113ae50a6"
            }
        },
        {
            "cell_type": "code",
            "source": [
                "INSERT INTO Rol\n",
                "    (\n",
                "    [Id],\n",
                "    [Descripcion],\n",
                "    [Activo],\n",
                "    [UsuarioAgregaId],\n",
                "    [FechaAgrega]\n",
                "    )\n",
                "VALUES\n",
                "    (\n",
                "        1,\n",
                "        'Administrador',\n",
                "        1,\n",
                "        1,\n",
                "        GETDATE()\n",
                "),\n",
                "    (\n",
                "        2,\n",
                "        'Oficiales médicos',\n",
                "        1,\n",
                "        1,\n",
                "        GETDATE()\n",
                "),\n",
                "    (\n",
                "        3,\n",
                "        'Encargado de digitación',\n",
                "        1,\n",
                "        1,\n",
                "        GETDATE()\n",
                ");"
            ],
            "metadata": {
                "azdata_cell_guid": "5872aba1-0624-4131-b3f5-8fd01a4efc11",
                "language": "sql"
            },
            "outputs": [],
            "execution_count": null
        },
        {
            "cell_type": "markdown",
            "source": [
                "Seleccionando los Roles"
            ],
            "metadata": {
                "azdata_cell_guid": "233e6ef6-cd26-4738-8d23-f1e1620511b8"
            }
        },
        {
            "cell_type": "code",
            "source": [
                "SELECT *\n",
                "FROM Rol;\n",
                "\n",
                "SELECT r.*,\n",
                "    UsuarioAgrega = u.Usuario\n",
                "FROM Rol r\n",
                "    INNER JOIN Usuario u ON u.Id = r.UsuarioAgregaId;"
            ],
            "metadata": {
                "azdata_cell_guid": "d0a20b38-91d5-4a81-beef-d2bde51ba44f",
                "language": "sql"
            },
            "outputs": [],
            "execution_count": null
        },
        {
            "cell_type": "code",
            "source": [
                "CREATE TABLE CentroDeAsistencia\n",
                "(\n",
                "    Id INT NOT NULL,\n",
                "    Descripcion NVARCHAR(200) NOT NULL,\n",
                "    Capacidad INT NOT NULL,\n",
                "    NumeroMedicos INT NOT NULL,\n",
                "    NumeroEnfermeras INT NOT NULL,\n",
                "    NumeroPacientesAtendidos INT NOT NULL,\n",
                "    Activo BIT NOT NULL,\n",
                "    UsuarioAgregaId INT NOT NULL,\n",
                "    FechaAgrega DATETIME NOT NULL,\n",
                "    FechaModifica DATETIME NULL,\n",
                "    UsuarioModificaId INT NULL,\n",
                "    CONSTRAINT PK_CentroDeAsistencia PRIMARY KEY (Id),\n",
                "    CONSTRAINT CK_CentroDeAsistencia_Descripcion CHECK(Descripcion IS NOT NULL AND TRIM(Descripcion) <> ''),\n",
                "    CONSTRAINT FK_CentroDeAsistencia_UsuarioAgregaId FOREIGN KEY (UsuarioAgregaId) REFERENCES Usuario (Id),\n",
                "    CONSTRAINT FK_CentroDeAsistencia_UsuarioModificaId FOREIGN KEY (UsuarioModificaId) REFERENCES Usuario (Id)\n",
                ");"
            ],
            "metadata": {
                "azdata_cell_guid": "b2c239df-2eed-422e-906f-c4640dde18ee",
                "language": "sql"
            },
            "outputs": [],
            "execution_count": null
        },
        {
            "cell_type": "code",
            "source": [
                "CREATE TABLE CentroDeAsistencia\n",
                "(\n",
                "    Id INT NOT NULL,\n",
                "    Descripcion NVARCHAR(200) NOT NULL,\n",
                "    Capacidad INT NOT NULL,\n",
                "    NumeroMedicos INT NOT NULL,\n",
                "    NumeroEnfermeras INT NOT NULL,\n",
                "    NumeroPacientesAtendidos INT NOT NULL,\n",
                "    Activo BIT NOT NULL,\n",
                "    UsuarioAgregaId INT NOT NULL,\n",
                "    FechaAgrega DATETIME NOT NULL,\n",
                "    FechaModifica DATETIME NULL,\n",
                "    UsuarioModificaId INT NULL,\n",
                "    CONSTRAINT PK_CentroDeAsistencia PRIMARY KEY (Id),\n",
                "    CONSTRAINT CK_CentroDeAsistencia_Descripcion CHECK(Descripcion IS NOT NULL AND TRIM(Descripcion) <> ''),\n",
                "    CONSTRAINT FK_CentroDeAsistencia_UsuarioAgregaId FOREIGN KEY (UsuarioAgregaId) REFERENCES Usuario (Id),\n",
                "    CONSTRAINT FK_CentroDeAsistencia_UsuarioModificaId FOREIGN KEY (UsuarioModificaId) REFERENCES Usuario (Id)\n",
                ");"
            ],
            "metadata": {
                "azdata_cell_guid": "2fc55335-2918-4e6a-adac-08aba2116c41",
                "language": "sql"
            },
            "outputs": [],
            "execution_count": null
        },
        {
            "cell_type": "code",
            "source": [
                "CREATE TABLE Vacuna\n",
                "(\n",
                "    Id INT NOT NULL,\n",
                "    Identidad NVARCHAR(50) NOT NULL,\n",
                "    Nombre NVARCHAR(50) NOT NULL,\n",
                "    Apellido NVARCHAR(50) NOT NULL,\n",
                "    FechaNacimiento DATE NOT NULL,\n",
                "    Activo BIT NOT NULL,\n",
                "    UsuarioAgregaId INT NOT NULL,\n",
                "    FechaAgrega DATETIME NOT NULL,\n",
                "    FechaModifica DATETIME NULL,\n",
                "    UsuarioModificaId INT NULL,\n",
                "    CONSTRAINT PK_Vacuna PRIMARY KEY (Id),\n",
                "    CONSTRAINT CK_Vacuna_Identidad CHECK(Identidad IS NOT NULL AND TRIM(Identidad) <> ''),\n",
                "    CONSTRAINT CK_Vacuna_Nombre CHECK(Nombre IS NOT NULL AND TRIM(Nombre) <> ''),\n",
                "    CONSTRAINT CK_Vacuna_Apellido CHECK(Apellido IS NOT NULL AND TRIM(Apellido) <> ''),\n",
                "    CONSTRAINT CK_Vacuna_FechaNacimiento CHECK(FechaNacimiento >= '1970-01-01'),\n",
                "    CONSTRAINT FK_Vacuna_UsuarioAgregaId FOREIGN KEY (UsuarioAgregaId) REFERENCES Usuario (Id),\n",
                "    CONSTRAINT FK_Vacuna_UsuarioModificaId FOREIGN KEY (UsuarioModificaId) REFERENCES Usuario (Id)\n",
                ");"
            ],
            "metadata": {
                "azdata_cell_guid": "ef3ac3de-5c97-461d-8f78-f3ac127f536d",
                "language": "sql"
            },
            "outputs": [],
            "execution_count": null
        },
        {
            "cell_type": "code",
            "source": [
                "CREATE TABLE DestinoVacuna\n",
                "(\n",
                "    Id INT NOT NULL,\n",
                "    Descripcion NVARCHAR(50) NOT NULL,\n",
                "    Activo BIT NOT NULL,\n",
                "    UsuarioAgregaId INT NOT NULL,\n",
                "    FechaAgrega DATETIME NOT NULL,\n",
                "    FechaModifica DATETIME NULL,\n",
                "    UsuarioModificaId INT NULL,\n",
                "    CONSTRAINT PK_DestinoVacuna PRIMARY KEY (Id),\n",
                "    CONSTRAINT CK_DestinoVacuna_Descripcion CHECK(Descripcion IS NOT NULL AND TRIM(Descripcion) <> ''),\n",
                "    CONSTRAINT FK_DestinoVacuna_UsuarioAgregaId FOREIGN KEY (UsuarioAgregaId) REFERENCES Usuario (Id),\n",
                "    CONSTRAINT FK_DestinoVacuna_UsuarioModificaId FOREIGN KEY (UsuarioModificaId) REFERENCES Usuario (Id)\n",
                ");"
            ],
            "metadata": {
                "azdata_cell_guid": "e7494d51-0537-431f-b549-ea8e6b3277a5",
                "language": "sql"
            },
            "outputs": [],
            "execution_count": null
        },
        {
            "cell_type": "code",
            "source": [
                "CREATE TABLE Vacuna\n",
                "(\n",
                "    Id INT NOT NULL,\n",
                "    Descripcion NVARCHAR(50) NOT NULL,\n",
                "    DestinoVacunaId INT NOT NULL,\n",
                "    Activo BIT NOT NULL,\n",
                "    UsuarioAgregaId INT NOT NULL,\n",
                "    FechaAgrega DATETIME NOT NULL,\n",
                "    FechaModifica DATETIME NULL,\n",
                "    UsuarioModificaId INT NULL,\n",
                "    CONSTRAINT PK_Vacuna PRIMARY KEY (Id),\n",
                "    CONSTRAINT CK_Vacuna_Identidad CHECK(Descripcion IS NOT NULL AND TRIM(Descripcion) <> ''),\n",
                "    CONSTRAINT FK_Vacuna_UsuarioAgregaId FOREIGN KEY (UsuarioAgregaId) REFERENCES Usuario (Id),\n",
                "    CONSTRAINT FK_Vacuna_UsuarioModificaId FOREIGN KEY (UsuarioModificaId) REFERENCES Usuario (Id),\n",
                "    CONSTRAINT FK_Vacuna_DestinoVacuna FOREIGN KEY (UsuarioModificaId) REFERENCES DestinoVacuna (Id)\n",
                ");"
            ],
            "metadata": {
                "azdata_cell_guid": "fa788048-1b5e-4e45-bb80-a6ce68ace836",
                "language": "sql"
            },
            "outputs": [],
            "execution_count": null
        },
        {
            "cell_type": "markdown",
            "source": [
                "Listar tablas"
            ],
            "metadata": {
                "azdata_cell_guid": "ba36ff00-f16c-4621-a339-2541f1b6b78a"
            }
        },
        {
            "cell_type": "code",
            "source": [
                "SELECT table_catalog [database], table_schema [schema], table_name [name], table_type [type]\n",
                "FROM INFORMATION_SCHEMA.TABLES"
            ],
            "metadata": {
                "azdata_cell_guid": "f625c460-8657-48d5-8866-cce69125375f",
                "language": "sql"
            },
            "outputs": [
                {
                    "output_type": "display_data",
                    "data": {
                        "text/html": "(6 rows affected)"
                    },
                    "metadata": {}
                },
                {
                    "output_type": "display_data",
                    "data": {
                        "text/html": "Total execution time: 00:00:00.047"
                    },
                    "metadata": {}
                },
                {
                    "output_type": "execute_result",
                    "execution_count": 1,
                    "data": {
                        "application/vnd.dataresource+json": {
                            "schema": {
                                "fields": [
                                    {
                                        "name": "database"
                                    },
                                    {
                                        "name": "schema"
                                    },
                                    {
                                        "name": "name"
                                    },
                                    {
                                        "name": "type"
                                    }
                                ]
                            },
                            "data": [
                                {
                                    "0": "VacunasAntiCovid",
                                    "1": "dbo",
                                    "2": "Rol",
                                    "3": "BASE TABLE"
                                },
                                {
                                    "0": "VacunasAntiCovid",
                                    "1": "dbo",
                                    "2": "Usuario",
                                    "3": "BASE TABLE"
                                },
                                {
                                    "0": "VacunasAntiCovid",
                                    "1": "dbo",
                                    "2": "CentroDeAsistencia",
                                    "3": "BASE TABLE"
                                },
                                {
                                    "0": "VacunasAntiCovid",
                                    "1": "dbo",
                                    "2": "Ciudadano",
                                    "3": "BASE TABLE"
                                },
                                {
                                    "0": "VacunasAntiCovid",
                                    "1": "dbo",
                                    "2": "DestinoVacuna",
                                    "3": "BASE TABLE"
                                },
                                {
                                    "0": "VacunasAntiCovid",
                                    "1": "dbo",
                                    "2": "Vacuna",
                                    "3": "BASE TABLE"
                                }
                            ]
                        },
                        "text/html": "<table><tr><th>database</th><th>schema</th><th>name</th><th>type</th></tr><tr><td>VacunasAntiCovid</td><td>dbo</td><td>Rol</td><td>BASE TABLE</td></tr><tr><td>VacunasAntiCovid</td><td>dbo</td><td>Usuario</td><td>BASE TABLE</td></tr><tr><td>VacunasAntiCovid</td><td>dbo</td><td>CentroDeAsistencia</td><td>BASE TABLE</td></tr><tr><td>VacunasAntiCovid</td><td>dbo</td><td>Ciudadano</td><td>BASE TABLE</td></tr><tr><td>VacunasAntiCovid</td><td>dbo</td><td>DestinoVacuna</td><td>BASE TABLE</td></tr><tr><td>VacunasAntiCovid</td><td>dbo</td><td>Vacuna</td><td>BASE TABLE</td></tr></table>"
                    },
                    "metadata": {}
                }
            ],
            "execution_count": 1
        }
    ]
}